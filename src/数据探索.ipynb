{
 "cells": [
  {
   "cell_type": "markdown",
   "metadata": {},
   "source": [
    "头条文本分类数据探索"
   ]
  },
  {
   "cell_type": "code",
   "execution_count": 2,
   "metadata": {},
   "outputs": [],
   "source": [
    "import pandas as pd\n",
    "import numpy as np"
   ]
  },
  {
   "cell_type": "code",
   "execution_count": 5,
   "metadata": {},
   "outputs": [
    {
     "name": "stderr",
     "output_type": "stream",
     "text": [
      "C:\\Users\\win\\AppData\\Local\\Temp\\ipykernel_2392\\1416503317.py:1: ParserWarning: Falling back to the 'python' engine because the 'c' engine does not support regex separators (separators > 1 char and different from '\\s+' are interpreted as regex); you can avoid this warning by specifying engine='python'.\n",
      "  df = pd.read_csv('../inputs/toutiao_cat_data.txt',sep='_!_',names=['news_id','cate_code','cate_name','news_title','news_keywords'])\n"
     ]
    }
   ],
   "source": [
    "df = pd.read_csv('../inputs/toutiao_cat_data.txt',sep='_!_',names=['news_id','cate_code','cate_name','news_title','news_keywords'])"
   ]
  },
  {
   "cell_type": "code",
   "execution_count": 6,
   "metadata": {},
   "outputs": [
    {
     "data": {
      "text/html": [
       "<div>\n",
       "<style scoped>\n",
       "    .dataframe tbody tr th:only-of-type {\n",
       "        vertical-align: middle;\n",
       "    }\n",
       "\n",
       "    .dataframe tbody tr th {\n",
       "        vertical-align: top;\n",
       "    }\n",
       "\n",
       "    .dataframe thead th {\n",
       "        text-align: right;\n",
       "    }\n",
       "</style>\n",
       "<table border=\"1\" class=\"dataframe\">\n",
       "  <thead>\n",
       "    <tr style=\"text-align: right;\">\n",
       "      <th></th>\n",
       "      <th>news_id</th>\n",
       "      <th>cate_code</th>\n",
       "      <th>cate_name</th>\n",
       "      <th>news_title</th>\n",
       "      <th>news_keywords</th>\n",
       "    </tr>\n",
       "  </thead>\n",
       "  <tbody>\n",
       "    <tr>\n",
       "      <th>0</th>\n",
       "      <td>6551700932705387022</td>\n",
       "      <td>101</td>\n",
       "      <td>news_culture</td>\n",
       "      <td>京城最值得你来场文化之旅的博物馆</td>\n",
       "      <td>保利集团,马未都,中国科学技术馆,博物馆,新中国</td>\n",
       "    </tr>\n",
       "    <tr>\n",
       "      <th>1</th>\n",
       "      <td>6552368441838272771</td>\n",
       "      <td>101</td>\n",
       "      <td>news_culture</td>\n",
       "      <td>发酵床的垫料种类有哪些？哪种更好？</td>\n",
       "      <td>NaN</td>\n",
       "    </tr>\n",
       "    <tr>\n",
       "      <th>2</th>\n",
       "      <td>6552407965343678723</td>\n",
       "      <td>101</td>\n",
       "      <td>news_culture</td>\n",
       "      <td>上联：黄山黄河黄皮肤黄土高原。怎么对下联？</td>\n",
       "      <td>NaN</td>\n",
       "    </tr>\n",
       "    <tr>\n",
       "      <th>3</th>\n",
       "      <td>6552332417753940238</td>\n",
       "      <td>101</td>\n",
       "      <td>news_culture</td>\n",
       "      <td>林徽因什么理由拒绝了徐志摩而选择梁思成为终身伴侣？</td>\n",
       "      <td>NaN</td>\n",
       "    </tr>\n",
       "    <tr>\n",
       "      <th>4</th>\n",
       "      <td>6552475601595269390</td>\n",
       "      <td>101</td>\n",
       "      <td>news_culture</td>\n",
       "      <td>黄杨木是什么树？</td>\n",
       "      <td>NaN</td>\n",
       "    </tr>\n",
       "  </tbody>\n",
       "</table>\n",
       "</div>"
      ],
      "text/plain": [
       "               news_id  cate_code     cate_name                 news_title  \\\n",
       "0  6551700932705387022        101  news_culture           京城最值得你来场文化之旅的博物馆   \n",
       "1  6552368441838272771        101  news_culture          发酵床的垫料种类有哪些？哪种更好？   \n",
       "2  6552407965343678723        101  news_culture      上联：黄山黄河黄皮肤黄土高原。怎么对下联？   \n",
       "3  6552332417753940238        101  news_culture  林徽因什么理由拒绝了徐志摩而选择梁思成为终身伴侣？   \n",
       "4  6552475601595269390        101  news_culture                   黄杨木是什么树？   \n",
       "\n",
       "              news_keywords  \n",
       "0  保利集团,马未都,中国科学技术馆,博物馆,新中国  \n",
       "1                       NaN  \n",
       "2                       NaN  \n",
       "3                       NaN  \n",
       "4                       NaN  "
      ]
     },
     "execution_count": 6,
     "metadata": {},
     "output_type": "execute_result"
    }
   ],
   "source": [
    "df.head()"
   ]
  },
  {
   "cell_type": "code",
   "execution_count": 11,
   "metadata": {},
   "outputs": [
    {
     "data": {
      "text/plain": [
       "[('news_id', 0),\n",
       " ('cate_code', 0),\n",
       " ('cate_name', 0),\n",
       " ('news_title', 0),\n",
       " ('news_keywords', 122453)]"
      ]
     },
     "execution_count": 11,
     "metadata": {},
     "output_type": "execute_result"
    }
   ],
   "source": [
    "[(i,df.isna()[i].sum()) for i in df.columns]"
   ]
  },
  {
   "cell_type": "code",
   "execution_count": 15,
   "metadata": {},
   "outputs": [],
   "source": [
    "df.fillna('',inplace=True)"
   ]
  },
  {
   "cell_type": "code",
   "execution_count": 13,
   "metadata": {},
   "outputs": [
    {
     "data": {
      "text/plain": [
       "<Axes: xlabel='cate_code'>"
      ]
     },
     "execution_count": 13,
     "metadata": {},
     "output_type": "execute_result"
    },
    {
     "data": {
      "image/png": "[encoded data removed]",
      "text/plain": [
       "<Figure size 640x480 with 1 Axes>"
      ]
     },
     "metadata": {},
     "output_type": "display_data"
    }
   ],
   "source": [
    "df.groupby(by='cate_code')['cate_code'].count().plot(kind='bar')"
   ]
  },
  {
   "cell_type": "code",
   "execution_count": 14,
   "metadata": {},
   "outputs": [
    {
     "data": {
      "text/plain": [
       "cate_code  cate_name         \n",
       "109        news_tech             41543\n",
       "102        news_entertainment    39396\n",
       "103        news_sports           37568\n",
       "107        news_car              35785\n",
       "116        news_game             29300\n",
       "101        news_culture          28031\n",
       "104        news_finance          27085\n",
       "108        news_edu              27058\n",
       "113        news_world            26909\n",
       "110        news_military         24984\n",
       "112        news_travel           21422\n",
       "115        news_agriculture      19322\n",
       "106        news_house            17672\n",
       "100        news_story             6273\n",
       "114        stock                   340\n",
       "dtype: int64"
      ]
     },
     "execution_count": 14,
     "metadata": {},
     "output_type": "execute_result"
    }
   ],
   "source": [
    "df[['cate_code','cate_name']].value_counts()"
   ]
  },
  {
   "cell_type": "code",
   "execution_count": 16,
   "metadata": {},
   "outputs": [],
   "source": [
    "import pandas as pd\n",
    "from sklearn import model_selection\n",
    "import config\n",
    "\n",
    "def create_folds(data,target_type):\n",
    "    '''\n",
    "    :param data: a dataframe\n",
    "    :param target_type: a string, 'c' for categorical target 'd' for continuous target\n",
    "    if 'c' then data must have a target column\n",
    "    ''' \n",
    "    # we create a new column called kfold and fill it with -1\n",
    "    data[\"kfold\"] = -1\n",
    "\n",
    "    # the next step is to randomize the rows of the data\n",
    "    data = data.sample(frac=1).reset_index(drop=True)\n",
    "    # initiate the kfold class from model_selection module\n",
    "    kf = model_selection.StratifiedKFold(n_splits=5)\n",
    "\n",
    "    if target_type == 'd':\n",
    "        # calculate the number of bins by Sturge's rule\n",
    "        # I take the floor of the value, you can also\n",
    "        # just round it\n",
    "        num_bins = int(np.floor(1 + np.log2(len(data))))\n",
    "        # bin targets\n",
    "        data.loc[:, \"bins\"] = pd.cut(\n",
    "        data[\"target\"], bins=num_bins, labels=False\n",
    "        )\n",
    "\n",
    "\n",
    "\n",
    "        # fill the new kfold column\n",
    "        # note that, instead of targets, we use bins!\n",
    "        for f, (t_, v_) in enumerate(kf.split(X=data, y=data.bins.values)):\n",
    "            data.loc[v_, 'kfold'] = f\n",
    "\n",
    "        # drop the bins column\n",
    "        data = data.drop(\"bins\", axis=1)\n",
    "    if target_type == 'c':\n",
    "        # fill the new kfold column\n",
    "        # note that, instead of targets, we use bins!\n",
    "        for f, (t_, v_) in enumerate(kf.split(X=data, y=data.target.values)):\n",
    "            data.loc[v_, 'kfold'] = f        \n",
    "    # return dataframe with folds\n",
    "    return data\n",
    "    if __name__ == \"__main__\":\n",
    "        df = pd.read_csv(config.RAW_DATA,sep='_!_',names=['news_id','cate_code','cate_name','news_title','news_keywords'])\n",
    "        print('原始数据的缺失情况')\n",
    "        print([(i,df.isna()[i].sum()) for i in df.columns])\n",
    "        # create folds\n",
    "        df = create_folds(df)"
   ]
  },
  {
   "cell_type": "code",
   "execution_count": null,
   "metadata": {},
   "outputs": [],
   "source": []
  }
 ],
 "metadata": {
  "kernelspec": {
   "display_name": "base",
   "language": "python",
   "name": "python3"
  },
  "language_info": {
   "codemirror_mode": {
    "name": "ipython",
    "version": 3
   },
   "file_extension": ".py",
   "mimetype": "text/x-python",
   "name": "python",
   "nbconvert_exporter": "python",
   "pygments_lexer": "ipython3",
   "version": "3.10.9"
  },
  "orig_nbformat": 4
 },
 "nbformat": 4,
 "nbformat_minor": 2
}
